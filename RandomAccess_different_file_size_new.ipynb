{
 "cells": [
  {
   "cell_type": "code",
   "execution_count": 2,
   "metadata": {},
   "outputs": [],
   "source": [
    "%matplotlib inline\n",
    "import numpy as np\n",
    "import matplotlib.pyplot as plt\n",
    "import seaborn as sns"
   ]
  },
  {
   "cell_type": "code",
   "execution_count": 3,
   "metadata": {},
   "outputs": [],
   "source": [
    "np.random.seed(100)\n",
    "def sim_random_access_eff(n_row, n_col):\n",
    "    pool = np.random.randint(low=1, high=1000, size=(n_row, n_col))\n",
    "    amp_efficiency = 0.9\n",
    "    cycle = 15\n",
    "    ra_eff_list = []\n",
    "    for row in range(n_row):\n",
    "        for col in range(n_col):\n",
    "            pool_pcr = np.copy(pool)\n",
    "            pool_pcr[row,col] = pool[row,col]*(1+amp_efficiency)**cycle\n",
    "            dsDNA = sum(pool[row,:])-pool[row,col]+pool_pcr[row,col]\n",
    "            ds_filter_ra_eff = 100*pool_pcr[row,col]/dsDNA\n",
    "            ra_eff_list.append(ds_filter_ra_eff)\n",
    "    ra_eff = np.reshape(ra_eff_list,(n_row, n_col))\n",
    "    return ra_eff"
   ]
  },
  {
   "cell_type": "code",
   "execution_count": null,
   "metadata": {},
   "outputs": [],
   "source": []
  },
  {
   "cell_type": "code",
   "execution_count": 4,
   "metadata": {},
   "outputs": [],
   "source": [
    "ra_eff_0 = sim_random_access_eff(10,10)\n",
    "ra_eff_1 = sim_random_access_eff(32,32)\n",
    "ra_eff_2 = sim_random_access_eff(100,100)"
   ]
  },
  {
   "cell_type": "code",
   "execution_count": 5,
   "metadata": {},
   "outputs": [
    {
     "data": {
      "image/png": "[encoded data removed]",
      "text/plain": [
       "<Figure size 432x288 with 1 Axes>"
      ]
     },
     "metadata": {
      "needs_background": "light"
     },
     "output_type": "display_data"
    }
   ],
   "source": [
    "fig, (ax1) = plt.subplots(nrows=1, ncols=1, figsize=(6, 4))\n",
    "sns.set_style('ticks')\n",
    "SMALL_SIZE = 12\n",
    "MEDIUM_SIZE = 14\n",
    "BIGGER_SIZE = 16\n",
    "plt.rc('font', size=MEDIUM_SIZE)          # controls default text sizes\n",
    "plt.rc('axes', titlesize=MEDIUM_SIZE)     # fontsize of the axes title\n",
    "plt.rc('axes', labelsize=MEDIUM_SIZE)    # fontsize of the x and y labels\n",
    "plt.rc('xtick', labelsize=MEDIUM_SIZE)    # fontsize of the tick labels\n",
    "plt.rc('ytick', labelsize=MEDIUM_SIZE)    # fontsize of the tick labels\n",
    "plt.rc('legend', fontsize=MEDIUM_SIZE)    # legend fontsize\n",
    "plt.rc('figure', titlesize=BIGGER_SIZE)  # fontsize of the figure title\n",
    "\n",
    "bplot = ax1.boxplot(\n",
    "    [ra_eff_0.flatten(),ra_eff_1.flatten(), ra_eff_2.flatten()], \n",
    "    vert=True,\n",
    "    patch_artist=True,\n",
    "    labels =[\"100 files\", \"1,024 files\", \"10,000 files\"]\n",
    ")\n",
    "# fill with colors\n",
    "colors = ['pink', 'lightblue', 'lightgreen']\n",
    "for patch, color in zip(bplot['boxes'], colors):\n",
    "    patch.set_facecolor(color)\n",
    "ax1.set_ylabel('Target file (%)')\n",
    "plt.savefig('./fig/fig_different_size_1Xto1000X.png', dpi=300, bbox_inches='tight', format='png')"
   ]
  },
  {
   "cell_type": "code",
   "execution_count": null,
   "metadata": {},
   "outputs": [],
   "source": []
  },
  {
   "cell_type": "code",
   "execution_count": null,
   "metadata": {},
   "outputs": [],
   "source": []
  }
 ],
 "metadata": {
  "kernelspec": {
   "display_name": "Python 3",
   "language": "python",
   "name": "python3"
  },
  "language_info": {
   "codemirror_mode": {
    "name": "ipython",
    "version": 3
   },
   "file_extension": ".py",
   "mimetype": "text/x-python",
   "name": "python",
   "nbconvert_exporter": "python",
   "pygments_lexer": "ipython3",
   "version": "3.7.9"
  }
 },
 "nbformat": 4,
 "nbformat_minor": 4
}
