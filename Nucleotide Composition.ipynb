{
 "cells": [
  {
   "cell_type": "code",
   "execution_count": 22,
   "id": "a379e6f4",
   "metadata": {},
   "outputs": [],
   "source": [
    "beginF = \"Data/Sequencing Data/Raw Sequencing Data/\" # where sequencing data files are located\n",
    "\n",
    "f = open(beginF + \"F3_sequences.fasta\")\n",
    "\n",
    "\n",
    "raw_sequences = []\n",
    "for line in f:\n",
    "    if not line[0] == '>':\n",
    "        raw_sequences.append(line[0:-1])\n",
    "        \n",
    "        \n",
    "beginPrimersF = \"Data/Sequencing Data/primers.fasta\"\n",
    "\n",
    "f2 = open(beginPrimersF)\n",
    "forward_primers = []\n",
    "reverse_primers = []\n",
    "\n",
    "for line in f2:\n",
    "    if not line[0] == '>':\n",
    "        if len(forward_primers) < 9:\n",
    "            forward_primers.append(line[0:-1])\n",
    "        else:\n",
    "            reverse_primers.append(line[0:-1])"
   ]
  },
  {
   "cell_type": "code",
   "execution_count": 23,
   "id": "7ba5d4d9",
   "metadata": {},
   "outputs": [
    {
     "name": "stdout",
     "output_type": "stream",
     "text": [
      "['ACAGGAGCAGAATTGAGTCGACAAAACACAGTAACCCAGGCTTATCTTCGTGCTGCCAGACCCTAACGATCCAACGCACCCAACAGATCGGAAGAGCACACGTTGAACTCCAGTCACCGCTCATTATCTCGTATGCCGTCTTCTGCTTGAAAAAAGGGGGGGGGGGGGGGGGGGGGG', 'ACAGGAGCAGAATTGAGTCGTCCCCCCCGCCAGCCCACACCTTATCTTCGTGCTGCCAGAGCAATAATTTTGTGTAATAGTTGGG', 'ACAGGAGCAGAATTGAGTCGGGTTAACCAGGCCACATAACCTTATCTTCGTGCTGCCAGAATTGACCAATAGAATCCAAAAGGGG', 'GATCGGAAGAGCACACGTCTGAACTCCAGTCACCGCTCATTATCTCGTATGCCGTCTTCTGCTTGAAAAAAGGGGGGGGGGGGGGGGGGGGGGGGGGGGGGGGGGGGGGGGGGGGGGGGGGGGGGGGGGGGGGGGGGGGGGGGGGGGGGGGGGGGGGGGGGGGGGGGGGGGGGGGGG', 'GATCGGAAGAGCACACGTCTGAACTCCAGTCACCGCTCATTATCTCGTATGCCGTCTTCTGCTTGAAAAAAGGGGGGGGGGGGGGGGGGGGGGGGGGGGGGGGGGGGGGGGGGGGGGGGGGGGGGGGGGGGGGGGGGGGGGGGGGGGGGGGGGGGGGGGGGGGGGGGGGGGGGGGGG']\n",
      "['CTATCTGGCCTCAAAGCACT', 'TCTGGCAGCACGAAGATAAG', 'AGGAGACAAGTAACGTGTGC', 'TAAGAAAGGCATCGTCACCG', 'GTCACGTCACCAGGTAACAA', 'TTTCCGATAGTTGAGGCAGG', 'TGGTGAAACTACCGACTTCC', 'AGTTGGTGACTATCCGTCCT', 'CACATAGGCAAAGCGGAGTA']\n",
      "['TTGACTCCTCCTCTTGCCTA', 'CGACTCAATTCTGCTCCTGT', 'GTCGAGCACTGATTGTGGAA', 'GTACTGCTCGGCCACTTATT', 'GCGTTGTCTCTAGCGAAAGA', 'TCATTTCTCCGACAGGCTTG', 'CCTCTCTTCGCGTTGATCTT', 'GCAAGACAATAGGCTTCGGT', 'GCAAGACAATAGGCTTCGGT', '']\n"
     ]
    }
   ],
   "source": [
    "print(raw_sequences[0:5])\n",
    "\n",
    "print(forward_primers)\n",
    "print(reverse_primers)"
   ]
  },
  {
   "cell_type": "code",
   "execution_count": 47,
   "id": "11f8c74e",
   "metadata": {},
   "outputs": [],
   "source": [
    "actual_payloads = []\n",
    "pairs_indexes = []\n",
    "for i in range(0, len(raw_sequences)):\n",
    "    sequence = raw_sequences[i]\n",
    "    \n",
    "    fp_index = -100\n",
    "    rp_index = -100\n",
    "    for fp in forward_primers:\n",
    "        if fp in sequence:\n",
    "            fp_index = sequence.find(fp)\n",
    "    for rp in reverse_primers:       \n",
    "        if rp in sequence:\n",
    "            rp_index = sequence.find(rp)\n",
    "            break\n",
    "    \n",
    "    if rp_index == fp_index + 40:\n",
    "        payload = sequence[fp_index + 20: rp_index]\n",
    "        actual_payloads.append(payload)"
   ]
  },
  {
   "cell_type": "code",
   "execution_count": 51,
   "id": "d5039254",
   "metadata": {},
   "outputs": [],
   "source": [
    "position_A = []\n",
    "position_C = []\n",
    "position_G = []\n",
    "position_T = []\n",
    "\n",
    "for i in range(0, 20):\n",
    "    countA = 0.0\n",
    "    countC = 0.0\n",
    "    countG = 0.0\n",
    "    countT = 0.0\n",
    "    \n",
    "    for seq in actual_payloads:\n",
    "        if seq[i] == 'A':\n",
    "            countA = countA + 1\n",
    "        elif seq[i] == 'C':\n",
    "            countC = countC + 1\n",
    "        elif seq[i] == 'G':\n",
    "            countG = countG + 1\n",
    "        elif seq[i] == 'T':\n",
    "            countT = countT + 1\n",
    "            \n",
    "    position_A.append((countA / len(actual_payloads)) * 100)\n",
    "    position_C.append((countC / len(actual_payloads))* 100)\n",
    "    position_G.append((countG / len(actual_payloads))* 100)\n",
    "    position_T.append((countT / len(actual_payloads))* 100)"
   ]
  },
  {
   "cell_type": "code",
   "execution_count": 52,
   "id": "9fb4e6d8",
   "metadata": {},
   "outputs": [
    {
     "data": {
      "text/plain": [
       "(0.0, 100.0)"
      ]
     },
     "execution_count": 52,
     "metadata": {},
     "output_type": "execute_result"
    },
    {
     "data": {
      "image/png": "[encoded data removed]",
      "text/plain": [
       "<Figure size 432x288 with 1 Axes>"
      ]
     },
     "metadata": {
      "needs_background": "light"
     },
     "output_type": "display_data"
    }
   ],
   "source": [
    "import matplotlib.pyplot as plt\n",
    "import matplotlib.style as style\n",
    "style.use('seaborn-colorblind')\n",
    "plt.plot(position_A)\n",
    "plt.plot(position_C)\n",
    "plt.plot(position_G)\n",
    "plt.plot(position_T)\n",
    "plt.ylim((0, 100))"
   ]
  },
  {
   "cell_type": "code",
   "execution_count": 53,
   "id": "4e0b3555",
   "metadata": {},
   "outputs": [
    {
     "data": {
      "text/plain": [
       "Text(0.5, 1.0, \"Expected Distribution of Nucleotides in Sequence of N's\")"
      ]
     },
     "execution_count": 53,
     "metadata": {},
     "output_type": "execute_result"
    },
    {
     "data": {
      "image/png": "[encoded data removed]",
      "text/plain": [
       "<Figure size 432x288 with 1 Axes>"
      ]
     },
     "metadata": {
      "needs_background": "light"
     },
     "output_type": "display_data"
    }
   ],
   "source": [
    "import numpy as np\n",
    "\n",
    "fig, ax = plt.subplots()\n",
    "labels = ['1', '2', '3', '4', '5', '6', '7', '8', '9', '10', '11', '12', '13', '14', '15', '16', '17', '18', '19', '20']\n",
    "\n",
    "ax.bar(labels, position_A, label='A')\n",
    "ax.bar(labels, position_C, bottom=np.array(position_A), label='C')\n",
    "ax.bar(labels, position_G,  bottom=np.array(position_A) + np.array(position_C), label='G')\n",
    "ax.bar(labels, position_T, bottom=np.array(position_A) + np.array(position_C) + np.array(position_G),\n",
    "       label='T')\n",
    "ax.legend(loc='center left', bbox_to_anchor=(1, 0.5))\n",
    "ax.set_ylabel('percentage of sequences')\n",
    "ax.set_xlabel('position in sequence')\n",
    "ax.set_title(\"Distribution of Nucleotides in Sequence of N's\")"
   ]
  },
  {
   "cell_type": "code",
   "execution_count": null,
   "id": "9a1c0669",
   "metadata": {},
   "outputs": [],
   "source": []
  }
 ],
 "metadata": {
  "kernelspec": {
   "display_name": "Python 3 (ipykernel)",
   "language": "python",
   "name": "python3"
  },
  "language_info": {
   "codemirror_mode": {
    "name": "ipython",
    "version": 3
   },
   "file_extension": ".py",
   "mimetype": "text/x-python",
   "name": "python",
   "nbconvert_exporter": "python",
   "pygments_lexer": "ipython3",
   "version": "3.8.10"
  }
 },
 "nbformat": 4,
 "nbformat_minor": 5
}
