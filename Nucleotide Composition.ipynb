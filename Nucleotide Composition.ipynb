{
 "cells": [
  {
   "cell_type": "code",
   "execution_count": 10,
   "id": "a379e6f4",
   "metadata": {},
   "outputs": [],
   "source": [
    "beginF = \"Data/Sequencing Data/Raw Sequencing Data/\" # where sequencing data files are located\n",
    "\n",
    "f = open(beginF + \"F3_sequences.fasta\")\n",
    "\n",
    "\n",
    "raw_sequences = []\n",
    "for line in f:\n",
    "    if not line[0] == '>':\n",
    "        raw_sequences.append(line[0:-1])\n",
    "        \n",
    "        \n",
    "beginPrimersF = \"Data/Sequencing Data/primers.fasta\"\n",
    "\n",
    "f2 = open(beginPrimersF)\n",
    "forward_primers = []\n",
    "reverse_primers = []\n",
    "\n",
    "for line in f2:\n",
    "    if not line[0] == '>':\n",
    "        if len(forward_primers) < 9:\n",
    "            forward_primers.append(line[0:-1])\n",
    "        else:\n",
    "            reverse_primers.append(line[0:-1])"
   ]
  },
  {
   "cell_type": "code",
   "execution_count": 11,
   "id": "7ba5d4d9",
   "metadata": {},
   "outputs": [
    {
     "name": "stdout",
     "output_type": "stream",
     "text": [
      "['ACAGGAGCAGAATTGAGTCGACAAAACACAGTAACCCAGGCTTATCTTCGTGCTGCCAGACCCTAACGATCCAACGCACCCAACAGATCGGAAGAGCACACGTTGAACTCCAGTCACCGCTCATTATCTCGTATGCCGTCTTCTGCTTGAAAAAAGGGGGGGGGGGGGGGGGGGGGG', 'ACAGGAGCAGAATTGAGTCGTCCCCCCCGCCAGCCCACACCTTATCTTCGTGCTGCCAGAGCAATAATTTTGTGTAATAGTTGGG', 'ACAGGAGCAGAATTGAGTCGGGTTAACCAGGCCACATAACCTTATCTTCGTGCTGCCAGAATTGACCAATAGAATCCAAAAGGGG', 'GATCGGAAGAGCACACGTCTGAACTCCAGTCACCGCTCATTATCTCGTATGCCGTCTTCTGCTTGAAAAAAGGGGGGGGGGGGGGGGGGGGGGGGGGGGGGGGGGGGGGGGGGGGGGGGGGGGGGGGGGGGGGGGGGGGGGGGGGGGGGGGGGGGGGGGGGGGGGGGGGGGGGGGGG', 'GATCGGAAGAGCACACGTCTGAACTCCAGTCACCGCTCATTATCTCGTATGCCGTCTTCTGCTTGAAAAAAGGGGGGGGGGGGGGGGGGGGGGGGGGGGGGGGGGGGGGGGGGGGGGGGGGGGGGGGGGGGGGGGGGGGGGGGGGGGGGGGGGGGGGGGGGGGGGGGGGGGGGGGGG']\n",
      "['CTATCTGGCCTCAAAGCACT', 'TCTGGCAGCACGAAGATAAG', 'AGGAGACAAGTAACGTGTGC', 'TAAGAAAGGCATCGTCACCG', 'GTCACGTCACCAGGTAACAA', 'TTTCCGATAGTTGAGGCAGG', 'TGGTGAAACTACCGACTTCC', 'AGTTGGTGACTATCCGTCCT', 'CACATAGGCAAAGCGGAGTA']\n",
      "['TTGACTCCTCCTCTTGCCTA', 'CGACTCAATTCTGCTCCTGT', 'GTCGAGCACTGATTGTGGAA', 'GTACTGCTCGGCCACTTATT', 'GCGTTGTCTCTAGCGAAAGA', 'TCATTTCTCCGACAGGCTTG', 'CCTCTCTTCGCGTTGATCTT', 'GCAAGACAATAGGCTTCGGT', 'GCAAGACAATAGGCTTCGGT', '']\n"
     ]
    }
   ],
   "source": [
    "print(raw_sequences[0:5])\n",
    "\n",
    "print(forward_primers)\n",
    "print(reverse_primers)"
   ]
  },
  {
   "cell_type": "code",
   "execution_count": 12,
   "id": "11f8c74e",
   "metadata": {},
   "outputs": [],
   "source": [
    "actual_payloads = []\n",
    "pairs_indexes = []\n",
    "for i in range(0, len(raw_sequences)):\n",
    "    sequence = raw_sequences[i]\n",
    "    \n",
    "    fp_index = -100\n",
    "    rp_index = -100\n",
    "    for fp in forward_primers:\n",
    "        if fp in sequence:\n",
    "            fp_index = sequence.find(fp)\n",
    "    for rp in reverse_primers:       \n",
    "        if rp in sequence:\n",
    "            rp_index = sequence.find(rp)\n",
    "            break\n",
    "    \n",
    "    if rp_index == fp_index + 40:\n",
    "        payload = sequence[fp_index + 20: rp_index]\n",
    "        actual_payloads.append(payload)"
   ]
  },
  {
   "cell_type": "code",
   "execution_count": 13,
   "id": "320b2441",
   "metadata": {},
   "outputs": [],
   "source": [
    "position_A = []\n",
    "position_C = []\n",
    "position_G = []\n",
    "position_T = []\n",
    "\n",
    "for i in range(0, 20):\n",
    "    countA = 0.0\n",
    "    countC = 0.0\n",
    "    countG = 0.0\n",
    "    countT = 0.0\n",
    "    \n",
    "    for seq in actual_payloads:\n",
    "        if seq[i] == 'A':\n",
    "            countA = countA + 1\n",
    "        elif seq[i] == 'C':\n",
    "            countC = countC + 1\n",
    "        elif seq[i] == 'G':\n",
    "            countG = countG + 1\n",
    "        elif seq[i] == 'T':\n",
    "            countT = countT + 1\n",
    "            \n",
    "    position_A.append((countA / len(actual_payloads)) * 100)\n",
    "    position_C.append((countC / len(actual_payloads))* 100)\n",
    "    position_G.append((countG / len(actual_payloads))* 100)\n",
    "    position_T.append((countT / len(actual_payloads))* 100)"
   ]
  },
  {
   "cell_type": "code",
   "execution_count": 30,
   "id": "b58ebccc",
   "metadata": {},
   "outputs": [
    {
     "name": "stdout",
     "output_type": "stream",
     "text": [
      "1.1775 22.5242\n",
      "0.8474 19.1847\n",
      "2.0409 30.2203\n",
      "0.7231 28.0708\n"
     ]
    }
   ],
   "source": [
    "std_a = np.std(np.array(position_A))\n",
    "std_c = np.std(np.array(position_C))\n",
    "std_g = np.std(np.array(position_G))\n",
    "std_t = np.std(np.array(position_T))\n",
    "\n",
    "avg_a = np.mean(np.array(position_A))\n",
    "avg_c = np.mean(np.array(position_C))\n",
    "avg_g = np.mean(np.array(position_G))\n",
    "avg_t = np.mean(np.array(position_T))\n",
    "\n",
    "print(str(round(std_a, 4)) + \" \" + str(round(avg_a, 4)))\n",
    "print(str(round(std_c, 4)) + \" \" + str(round(avg_c, 4)))\n",
    "print(str(round(std_g, 4)) + \" \" + str(round(avg_g, 4)))\n",
    "print(str(round(std_t, 4)) + \" \" + str(round(avg_t, 4)))"
   ]
  },
  {
   "cell_type": "code",
   "execution_count": 28,
   "id": "5f104805",
   "metadata": {},
   "outputs": [
    {
     "data": {
      "text/plain": [
       "Text(0.5, 1.0, \"Distribution of Nucleotides in Sequence of N's\")"
      ]
     },
     "execution_count": 28,
     "metadata": {},
     "output_type": "execute_result"
    },
    {
     "data": {
      "image/png": "[encoded data removed]",
      "text/plain": [
       "<Figure size 432x288 with 1 Axes>"
      ]
     },
     "metadata": {
      "needs_background": "light"
     },
     "output_type": "display_data"
    }
   ],
   "source": [
    "import matplotlib.pyplot as plt\n",
    "import matplotlib.style as style\n",
    "style.use('seaborn-colorblind')\n",
    "plt.plot(position_A, 'o', label = 'A')\n",
    "plt.plot(position_C, 'o', label = 'C')\n",
    "plt.plot(position_G, 'o', label = 'G')\n",
    "plt.plot(position_T, 'o', label = 'T')\n",
    "plt.ylim((0, 100))\n",
    "plt.legend(loc='upper left')\n",
    "plt.ylabel('percentage of sequences')\n",
    "plt.grid()\n",
    "plt.xlabel('position in sequence')\n",
    "plt.yticks([0, 10, 20, 30, 40, 50, 60, 70, 80, 90, 100])\n",
    "plt.xticks([0, 1, 2, 3, 4, 5, 6, 7, 8, 9, 10, 11, 12, 13, 14, 15, 16, 17, 18, 19], [1, 2, 3, 4, 5, 6, 7, 8, 9, 10, 11, 12, 13, 14, 15, 16, 17, 18, 19, 20])\n",
    "plt.title(\"Distribution of Nucleotides in Sequence of N's\")"
   ]
  },
  {
   "cell_type": "code",
   "execution_count": 20,
   "id": "9c7ae3e5",
   "metadata": {
    "scrolled": true
   },
   "outputs": [
    {
     "data": {
      "text/plain": [
       "Text(0.5, 1.0, \"Distribution of Nucleotides in Sequence of N's\")"
      ]
     },
     "execution_count": 20,
     "metadata": {},
     "output_type": "execute_result"
    },
    {
     "data": {
      "image/png": "[encoded data removed]",
      "text/plain": [
       "<Figure size 432x288 with 1 Axes>"
      ]
     },
     "metadata": {
      "needs_background": "light"
     },
     "output_type": "display_data"
    }
   ],
   "source": [
    "import numpy as np\n",
    "style.use('seaborn-colorblind')\n",
    "\n",
    "fig, ax = plt.subplots()\n",
    "# labels = ['1', '2', '3', '4', '5', '6', '7', '8', '9', '10', '11', '12', '13', '14', '15', '16', '17', '18', '19', '20']\n",
    "\n",
    "ax.bar(labels, position_A, label='A')\n",
    "ax.bar(labels, position_C, bottom=np.array(position_A), label='C')\n",
    "ax.bar(labels, position_G,  bottom=np.array(position_A) + np.array(position_C), label='G')\n",
    "ax.bar(labels, position_T, bottom=np.array(position_A) + np.array(position_C) + np.array(position_G),\n",
    "       label='T')\n",
    "ax.legend(loc='center left', bbox_to_anchor=(1, 0.5))\n",
    "ax.set_ylabel('percentage of sequences')\n",
    "ax.set_xlabel('position in sequence')\n",
    "ax.set_title(\"Distribution of Nucleotides in Sequence of N's\")"
   ]
  },
  {
   "cell_type": "code",
   "execution_count": null,
   "id": "bff37e9d",
   "metadata": {},
   "outputs": [],
   "source": [
    "print()"
   ]
  }
 ],
 "metadata": {
  "kernelspec": {
   "display_name": "Python 3 (ipykernel)",
   "language": "python",
   "name": "python3"
  },
  "language_info": {
   "codemirror_mode": {
    "name": "ipython",
    "version": 3
   },
   "file_extension": ".py",
   "mimetype": "text/x-python",
   "name": "python",
   "nbconvert_exporter": "python",
   "pygments_lexer": "ipython3",
   "version": "3.10.1"
  }
 },
 "nbformat": 4,
 "nbformat_minor": 5
}
