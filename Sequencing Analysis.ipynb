{
 "cells": [
  {
   "cell_type": "markdown",
   "id": "060b8f0f",
   "metadata": {},
   "source": [
    "# Sequencing Analysis\n",
    "\n",
    "\n",
    "After retrieving the .fasta files from the sequencing, we ran the following blast command for each to identify the stands/primers:\n",
    "\n",
    "*blastn -query primers.fasta -subject \\[name of input file, e.g., F1_sequences.fasta\\] -task blastn-short -dust no -max_target_seqs 1,000,000 -word_size 4 -reward 1 -penalty -2 -outfmt 6 -out \\[name of output file\\]*\n",
    "\n",
    "Here, we run some analysis on the sequencing results from blast to find the number of target and nontarget files amplified for each trial of our PCR run."
   ]
  },
  {
   "cell_type": "code",
   "execution_count": 1,
   "id": "6d1749d5",
   "metadata": {},
   "outputs": [],
   "source": [
    "import pandas as pd\n",
    "import numpy as np\n",
    "import matplotlib.pyplot as plt\n",
    "import seaborn as sns"
   ]
  },
  {
   "cell_type": "code",
   "execution_count": 2,
   "id": "77039987",
   "metadata": {
    "scrolled": true
   },
   "outputs": [],
   "source": [
    "columnsDf = []\n",
    "for f in  range(1, 10):\n",
    "    for r in range(1,10):\n",
    "        newCol = \"FP\" +  str(f) + \"/RP\" + str(r) # adding all the names of files to columns of output file\n",
    "        columnsDf.append(newCol)\n",
    "fileCounts = pd.DataFrame(columns = columnsDf)\n",
    "\n",
    "# files contains pairs of file names, the file containing the .txt output from the blast command and the new file created\n",
    "# ---- after this processing script is run\n",
    "files = [[\"outputF1.txt\", \"outputF1Proc.txt\"], [\"outputF2.txt\", \"outputF2Proc.txt\"], [\"outputF3.txt\", \"outputF3Proc.txt\"], \n",
    "         [\"outputF4.txt\", \"outputF4Proc.txt\"], [\"outputF5.txt\", \"outputF5Proc.txt\"]]\n",
    "\n",
    "beginF = \"Data/Sequencing Data/\" # where sequencing data files are located\n",
    "\n",
    "filePrims = {} # \n"
   ]
  },
  {
   "cell_type": "code",
   "execution_count": 3,
   "id": "8d8b683c",
   "metadata": {},
   "outputs": [
    {
     "name": "stdout",
     "output_type": "stream",
     "text": [
      "Percent filtered out for file outputF1.txt = 3.5855788020581224e-05\n",
      "Percent filtered out for file outputF2.txt = 9.761859438985938e-06\n",
      "Percent filtered out for file outputF3.txt = 2.1126463007563273e-05\n",
      "Percent filtered out for file outputF4.txt = 1.9792377955249434e-05\n",
      "Percent filtered out for file outputF5.txt = 1.535320037461809e-05\n",
      "Average percent filtered out = 2.037793775939959e-05\n"
     ]
    }
   ],
   "source": [
    "percent_sum = 0.0\n",
    "for names in files:       \n",
    "    # set all counts back to zero    \n",
    "    primerCounts = {\"FP1\" : 0, \"FP1 prop\" : 0, \"FP2\" : 0, \"FP2 prop\" : 0,\n",
    "                    \"FP3\" : 0, \"FP3 prop\" : 0, \"FP4\" : 0, \"FP4 prop\" : 0,\n",
    "                    \"FP5\" : 0, \"FP5 prop\" : 0, \"FP6\" : 0, \"FP6 prop\" : 0,\n",
    "                    \"FP7\" : 0, \"FP7 prop\" : 0, \"FP8\" : 0, \"FP8 prop\" : 0,\n",
    "                    \"FP9\" : 0, \"FP9 prop\" : 0, \"RP1\" : 0, \"RP1 prop\" : 0,\n",
    "                    \"RP2\" : 0, \"RP2 prop\" : 0, \"RP3\" : 0, \"RP3 prop\" : 0,\n",
    "                    \"RP4\" : 0, \"RP4 prop\" : 0, \"RP5\" : 0, \"RP5 prop\" : 0,\n",
    "                    \"RP6\" : 0, \"RP6 prop\" : 0, \"RP7\" : 0, \"RP7 prop\" : 0,\n",
    "                    \"RP8\" : 0, \"RP8 prop\" : 0, \"RP9\" : 0, \"RP9 prop\" : 0,\n",
    "                   }\n",
    "    \n",
    "    # open the necessary files\n",
    "#     f2 = open(beginF +\"Output after Processing Script/\"+  names[1], 'r+') #will have processed data\n",
    "#     f2.truncate(0) # remove first row\n",
    "    \n",
    "    f = open(beginF + \"Sequencing Data after Blast/\" +names[0]) # original data\n",
    "    count = 0 # count what line you are on\n",
    "    sumTot = 0 # count total number of lines\n",
    "    allLines = 0\n",
    "    goodLines = 0\n",
    "    primerPairs = []\n",
    "    # process data\n",
    "    for line in f: # loop through every line in data\n",
    "        parsed = line.split() \n",
    "        count = count + 1\n",
    "        allLines = allLines + 1\n",
    "        if (count > 2): # start from the second row\n",
    "            minLength = 15\n",
    "            maxSend = 85\n",
    "            #remove unwanted rows with values outside the specified limits\n",
    "#             if (not (int(parsed[3]) < minLength or int(parsed[9]) > maxSend)): # only adds lines with specified length/send to processed data\n",
    "            goodLines = goodLines + 1\n",
    "#                 f2.write(line)\n",
    "            sumTot = sumTot + 1\n",
    "            primer = parsed[0]\n",
    "            primerCounts[primer] = primerCounts[primer] + 1 # incrementing respective primer count\n",
    "            # check if sseqid is in the list\n",
    "            ss = parsed[1]\n",
    "            if (ss in filePrims): # found a match!\n",
    "                primerPairs.append([filePrims[ss], parsed[0]])\n",
    "                del filePrims[ss]\n",
    "            else: \n",
    "                filePrims[ss] = parsed[0]\n",
    "    \n",
    "    #count occurences of each file\n",
    "    TBA = []\n",
    "    index = 0\n",
    "    print(\"Percent filtered out for file \" + str(names[0]) + \" = \" + str((allLines - (goodLines * 1.0)) / allLines))\n",
    "    percent_sum = percent_sum + (allLines - (goodLines * 1.0)) / allLines\n",
    "    for f in  range(1, 10): # loop through all the possible files and actual primer pairs\n",
    "        for r in range(1,10):\n",
    "            countfile = 0  \n",
    "            for pair in primerPairs: \n",
    "                if (pair[0] == (\"FP\"+str(f)) and pair[1] == (\"RP\"+str(r))):\n",
    "                    countfile+=1 # increment counter for \n",
    "            TBA.append(countfile) # TBA has list of counts for each file\n",
    "    a_series = pd.Series(TBA, index = fileCounts.columns)\n",
    "    fileCounts = fileCounts.append(a_series, ignore_index=True)\n",
    "            \n",
    "    # add proportions\n",
    "    for key in primerCounts:\n",
    "        if (len(key) == 3): \n",
    "            prop = primerCounts[key] / sumTot\n",
    "            primerCounts[key + \" prop\"]= prop\n",
    "    filePrims = {}\n",
    "    \n",
    "print(\"Average percent filtered out = \" + str(percent_sum / len(files)))"
   ]
  },
  {
   "cell_type": "code",
   "execution_count": 4,
   "id": "626164b6",
   "metadata": {},
   "outputs": [],
   "source": [
    "# fileCounts.to_csv(\"filesCountRaw.csv\") # write counts to a .csv file\n",
    "fileCounts.to_csv(\"filesCountRaw_unfiltered.csv\") # write counts to a .csv file"
   ]
  },
  {
   "cell_type": "markdown",
   "id": "2172231c",
   "metadata": {},
   "source": [
    "## Plot the Sequencing Data"
   ]
  },
  {
   "cell_type": "code",
   "execution_count": 4,
   "id": "e7074065",
   "metadata": {},
   "outputs": [
    {
     "data": {
      "image/png": "[encoded data removed]",
      "text/plain": [
       "<Figure size 720x360 with 1 Axes>"
      ]
     },
     "metadata": {},
     "output_type": "display_data"
    }
   ],
   "source": [
    "#sns.set(font=\"Verdana\")\n",
    "sns.set_style(\"white\")\n",
    "sm = 13\n",
    "med = 14\n",
    "lg = 16\n",
    "# Numbers of pairs of bars you want\n",
    "N = 5\n",
    "\n",
    "# Data on X-axis\n",
    "\n",
    "# Specify the values of blue bars (height)\n",
    "blue_bar = (1, 1, 1, 1, 1)\n",
    "# Specify the values of orange bars (height)\n",
    "orange_bar = (99, 99, 99, 99, 99)\n",
    "\n",
    "# Position of bars on x-axis\n",
    "ind = np.arange(N)\n",
    "\n",
    "# Figure size\n",
    "plt.figure(figsize=(10,5))\n",
    "\n",
    "# Width of a bar \n",
    "width = 0.4\n",
    "\n",
    "# Plotting\n",
    "bar2 = plt.bar(ind, orange_bar, width, label='% Target Files', color ='#C55A11')\n",
    "bar1 = plt.bar(ind+width, blue_bar , width, label='% Nontarget Files', color = '#8497B0')\n",
    "\n",
    "readCounts = ['22\\nreads', '19\\nreads', '5\\nreads', '44\\nreads','68\\nreads', '26763\\nreads','96801\\nreads', \n",
    "              '43868\\nreads', '47251\\nreads', '59915\\nreads']\n",
    "indexo=0\n",
    "for rect in bar1 + bar2:\n",
    "    height = rect.get_height()\n",
    "    plt.text(rect.get_x() + rect.get_width()/2.0, height, readCounts[indexo], \n",
    "             ha='center', va='bottom', wrap =True, fontsize=sm)\n",
    "    indexo = indexo +  1\n",
    "\n",
    "# plt.xlabel('Here goes x-axis label')\n",
    "plt.ylabel('Percentage of Sequencing Reads', fontsize=med)\n",
    "# plt.xlabel('File being Amplified')\n",
    "plt.title('Target vs. Nontarget Reads After 18 PCR Cycles', fontsize=lg)\n",
    "plt.yticks([0,20,40,60,80,100], fontsize=sm)\n",
    "plt.ylim([0, 123])\n",
    "\n",
    "# xticks()\n",
    "# First argument - A list of positions at which ticks should be placed\n",
    "# Second argument -  A list of labels to place at the given locations\n",
    "plt.xticks(ind + width / 2, ('Experiment 1', 'Experiment 2', 'Experiment 3',  'Experiment 4',  'Experiment 5'), fontsize=sm)\n",
    "\n",
    "# Finding the best position for legends and putting it\n",
    "plt.legend(loc='upper center', ncol=2, fontsize=sm, bbox_to_anchor=(.5,1.02))\n",
    "plt.savefig('barplot.svg', dpi=1000)\n",
    "plt.show()"
   ]
  },
  {
   "cell_type": "code",
   "execution_count": null,
   "id": "81fff662",
   "metadata": {
    "collapsed": true
   },
   "outputs": [],
   "source": []
  }
 ],
 "metadata": {
  "kernelspec": {
   "display_name": "Python 3 (ipykernel)",
   "language": "python",
   "name": "python3"
  },
  "language_info": {
   "codemirror_mode": {
    "name": "ipython",
    "version": 3
   },
   "file_extension": ".py",
   "mimetype": "text/x-python",
   "name": "python",
   "nbconvert_exporter": "python",
   "pygments_lexer": "ipython3",
   "version": "3.10.1"
  }
 },
 "nbformat": 4,
 "nbformat_minor": 5
}
