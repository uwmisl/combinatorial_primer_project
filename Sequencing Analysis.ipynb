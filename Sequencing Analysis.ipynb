{
 "cells": [
  {
   "cell_type": "markdown",
   "id": "exotic-impact",
   "metadata": {},
   "source": [
    "# Sequencing Analysis\n",
    "\n",
    "Here, we run some analysis on the sequencing results from blast to find the number of target and nontarget files amplified for each trial of our PCR run."
   ]
  },
  {
   "cell_type": "code",
   "execution_count": 22,
   "id": "social-script",
   "metadata": {},
   "outputs": [],
   "source": [
    "import pandas as pd\n",
    "import numpy as np\n",
    "import matplotlib.pyplot as plt"
   ]
  },
  {
   "cell_type": "code",
   "execution_count": 18,
   "id": "ordinary-immune",
   "metadata": {
    "scrolled": true
   },
   "outputs": [
    {
     "name": "stdout",
     "output_type": "stream",
     "text": [
      "33.12608158220025\n",
      "27203.5\n",
      "39.7962202136401\n",
      "98081.0\n",
      "31.79073135409124\n",
      "44593.5\n",
      "22.908474576271185\n",
      "48338.5\n",
      "19.213188220230474\n",
      "61584.0\n"
     ]
    }
   ],
   "source": [
    "df = pd.DataFrame(columns = [\"FP1\", \"FP1 prop\", \"FP2\", \"FP2 prop\",\"FP3\", \"FP3 prop\",\n",
    "                             \"FP4\",\"FP4 prop\",\"FP5\",\"FP5 prop\",\"FP6\",\"FP6 prop\",\"FP7\",\"FP7 prop\",\n",
    "                             \"FP8\",\"FP8 prop\",\"FP9\",\"FP9 prop\", \n",
    "                             \"RP1\",\"RP1 prop\",\"RP2\" ,\"RP2 prop\",\"RP3\",\"RP3 prop\",\"RP4\",\"RP4 prop\",\n",
    "                             \"RP5\",\"RP5 prop\",\"RP6\",\"RP6 prop\",\"RP7\",\"RP7 prop\",\"RP8\",\"RP8 prop\",\"RP9\",\"RP9 prop\"])\n",
    "columnsDf = []\n",
    "for f in  range(1, 10):\n",
    "    for r in range(1,10):\n",
    "        newCol = \"FP\" +  str(f) + \"/RP\" + str(r) # adding all the names of files to columns of output file\n",
    "        columnsDf.append(newCol)\n",
    "fileCounts = pd.DataFrame(columns = columnsDf)\n",
    "\n",
    "# files contains pairs of file names, the file containing the .txt output from the blast command and the new file created\n",
    "# ---- after this processing script is run\n",
    "files = [[\"outputF1.txt\", \"outputF1Proc.txt\"], [\"outputF2.txt\", \"outputF2Proc.txt\"], [\"outputF3.txt\", \"outputF3Proc.txt\"], [\"outputF4.txt\", \"outputF4Proc.txt\"], [\"outputF5.txt\", \"outputF5Proc.txt\"]]\n",
    "\n",
    "beginF = \"Sequencing Data/\" # where sequencing data folders are located\n",
    "\n",
    "filePrims = {}\n",
    "\n",
    "for names in files:       \n",
    "    # set all counts back to zero    \n",
    "    primerCounts = {\"FP1\" : 0, \"FP1 prop\" : 0, \"FP2\" : 0, \"FP2 prop\" : 0,\n",
    "                    \"FP3\" : 0, \"FP3 prop\" : 0, \"FP4\" : 0, \"FP4 prop\" : 0,\n",
    "                    \"FP5\" : 0, \"FP5 prop\" : 0, \"FP6\" : 0, \"FP6 prop\" : 0,\n",
    "                    \"FP7\" : 0, \"FP7 prop\" : 0, \"FP8\" : 0, \"FP8 prop\" : 0,\n",
    "                    \"FP9\" : 0, \"FP9 prop\" : 0, \"RP1\" : 0, \"RP1 prop\" : 0,\n",
    "                    \"RP2\" : 0, \"RP2 prop\" : 0, \"RP3\" : 0, \"RP3 prop\" : 0,\n",
    "                    \"RP4\" : 0, \"RP4 prop\" : 0, \"RP5\" : 0, \"RP5 prop\" : 0,\n",
    "                    \"RP6\" : 0, \"RP6 prop\" : 0, \"RP7\" : 0, \"RP7 prop\" : 0,\n",
    "                    \"RP8\" : 0, \"RP8 prop\" : 0, \"RP9\" : 0, \"RP9 prop\" : 0,\n",
    "                   }\n",
    "    \n",
    "    # open the necessary files\n",
    "    f2 = open(beginF +\"Output after Processing Script/\"+  names[1], 'r+') #will have processed data\n",
    "    f2.truncate(0) # remove first row\n",
    "    \n",
    "    f = open(beginF + \"Sequencing Data after Blast/\" +names[0]) # original data\n",
    "    count = 0 # count what line you are on\n",
    "    sumTot = 0 # count total number of lines\n",
    "    \n",
    "    primerPairs = []\n",
    "    # process data\n",
    "    for line in f:\n",
    "        parsed = line.split() \n",
    "        count = count + 1\n",
    "        if (count > 2): \n",
    "            minLength = 15\n",
    "            maxSend = 85\n",
    "            #remove unwanted rows with values outside the specified limits\n",
    "            if (not (int(parsed[3]) < minLength or int(parsed[9]) > maxSend)): # only adds lines with specified length/send to processed data\n",
    "                f2.write(line)\n",
    "                sumTot = sumTot + 1\n",
    "                primer = parsed[0]\n",
    "                primerCounts[primer] = primerCounts[primer] + 1 # incrementing respective primer count\n",
    "                # check if sseqid is in the list\n",
    "                ss = parsed[1]\n",
    "                if (ss in filePrims): # found a match!\n",
    "                    primerPairs.append([filePrims[ss], parsed[0]])\n",
    "                    del filePrims[ss]\n",
    "                else: \n",
    "                    filePrims[ss] = parsed[0]\n",
    "    \n",
    "    print(len(primerPairs)/len(filePrims))\n",
    "    #count occurences of each file\n",
    "    TBA = []\n",
    "    index = 0\n",
    "    for f in  range(1, 10):\n",
    "        for r in range(1,10):\n",
    "            countfile = 0\n",
    "            for pair in primerPairs:\n",
    "                if (pair[0] == (\"FP\"+str(f)) and pair[1] == (\"RP\"+str(r))):\n",
    "                    countfile+=1\n",
    "            TBA.append(countfile)\n",
    "    a_series = pd.Series(TBA, index = fileCounts.columns)\n",
    "    fileCounts = fileCounts.append(a_series, ignore_index=True)\n",
    "            \n",
    "    # add proportions\n",
    "    for key in primerCounts:\n",
    "        if (len(key) == 3): \n",
    "            prop = primerCounts[key] / sumTot\n",
    "            primerCounts[key + \" prop\"]= prop\n",
    "    df = df.append(primerCounts, ignore_index=True)\n",
    "    filePrims = {}\n",
    "    print(sumTot/2)\n",
    "\n",
    "fileCounts.to_csv(\"filesCountTest.csv\")\n",
    "# df.to_csv(\"countsProportTest.csv\")"
   ]
  },
  {
   "cell_type": "markdown",
   "id": "enclosed-singles",
   "metadata": {},
   "source": [
    "## Plot the Sequencing Data"
   ]
  },
  {
   "cell_type": "code",
   "execution_count": 31,
   "id": "electrical-things",
   "metadata": {},
   "outputs": [
    {
     "data": {
      "image/png": "[encoded data removed]",
      "text/plain": [
       "<Figure size 360x360 with 1 Axes>"
      ]
     },
     "metadata": {
      "needs_background": "light"
     },
     "output_type": "display_data"
    }
   ],
   "source": [
    "# N=3\n",
    "# ind = np.arange(N)    # the x locations for the groups\n",
    "# width = 0.35       # the width of the bars: can also be len(x) sequence\n",
    "# targetP = (0.99, 0.989, 0.99)\n",
    "# x= 1-0.99\n",
    "# y=1-0.99\n",
    "# z=1-0.99\n",
    "# nonTargetP = (x, y,z)\n",
    "# plt.figure(figsize=(7,7))\n",
    "\n",
    "# p1 = plt.bar(ind, targetP, width, )\n",
    "# p2 = plt.bar(ind, nonTargetP, width,\n",
    "#              bottom=targetP)\n",
    "\n",
    "\n",
    "# plt.ylabel('Proportion in Solution')\n",
    "# plt.title('%target vs. %non-target for Different Files at 18 Cycles')\n",
    "# plt.xticks(ind, ('1-1', '2-2', '3-3'))\n",
    "# plt.yticks(np.arange(0, 1.1, 0.1))\n",
    "# plt.legend((p1[0], p2[0]), ('Target', 'Non-target'))\n",
    "# plt.show()\n",
    "\n",
    "\n",
    "\n",
    "# Numbers of pairs of bars you want\n",
    "N = 3\n",
    "\n",
    "# Data on X-axis\n",
    "\n",
    "# Specify the values of blue bars (height)\n",
    "blue_bar = (0.01, 0.01, 0.01)\n",
    "# Specify the values of orange bars (height)\n",
    "orange_bar = (0.99, 0.99, 0.99)\n",
    "\n",
    "# Position of bars on x-axis\n",
    "ind = np.arange(N)\n",
    "\n",
    "# Figure size\n",
    "plt.figure(figsize=(5,5))\n",
    "\n",
    "# Width of a bar \n",
    "width = 0.2     \n",
    "\n",
    "# Plotting\n",
    "plt.bar(ind, blue_bar , width, label='Proportion of Nontarget Files')\n",
    "plt.bar(ind + width, orange_bar, width, label='Proportion of Target Files')\n",
    "\n",
    "# plt.xlabel('Here goes x-axis label')\n",
    "plt.ylabel('Proportion in Solution')\n",
    "plt.title('%target vs. %non-target for Different Files at 18 Cycles')\n",
    "\n",
    "# xticks()\n",
    "# First argument - A list of positions at which ticks should be placed\n",
    "# Second argument -  A list of labels to place at the given locations\n",
    "plt.xticks(ind + width / 2, ('File 1', 'File 2', 'File 3'))\n",
    "\n",
    "# Finding the best position for legends and putting it\n",
    "plt.legend(loc='best', bbox_to_anchor=(1.02, 1))\n",
    "plt.show()"
   ]
  },
  {
   "cell_type": "code",
   "execution_count": null,
   "id": "burning-import",
   "metadata": {},
   "outputs": [],
   "source": []
  }
 ],
 "metadata": {
  "kernelspec": {
   "display_name": "Python 3",
   "language": "python",
   "name": "python3"
  },
  "language_info": {
   "codemirror_mode": {
    "name": "ipython",
    "version": 3
   },
   "file_extension": ".py",
   "mimetype": "text/x-python",
   "name": "python",
   "nbconvert_exporter": "python",
   "pygments_lexer": "ipython3",
   "version": "3.9.1"
  }
 },
 "nbformat": 4,
 "nbformat_minor": 5
}
